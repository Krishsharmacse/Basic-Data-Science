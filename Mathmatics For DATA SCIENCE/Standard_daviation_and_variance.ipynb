{
 "cells": [
  {
   "cell_type": "code",
   "execution_count": 1,
   "id": "29adaeb4",
   "metadata": {},
   "outputs": [],
   "source": [
    "import pandas as pd\n",
    "import numpy as np\n",
    "import matplotlib.pyplot as plt\n",
    "import seaborn as sns"
   ]
  },
  {
   "cell_type": "code",
   "execution_count": 3,
   "id": "ca6a8527",
   "metadata": {},
   "outputs": [],
   "source": [
    "sec_A=np.array([65,67,68,73,75,72])\n",
    "sec_B=np.array([43,47,51,90,93,96])"
   ]
  },
  {
   "cell_type": "code",
   "execution_count": 4,
   "id": "a0c036f7",
   "metadata": {},
   "outputs": [
    {
     "data": {
      "text/plain": [
       "(3.559026084010437, 23.18045153428495)"
      ]
     },
     "execution_count": 4,
     "metadata": {},
     "output_type": "execute_result"
    }
   ],
   "source": [
    "np.std(sec_A),np.std(sec_B)"
   ]
  },
  {
   "cell_type": "code",
   "execution_count": 5,
   "id": "67f2dd10",
   "metadata": {},
   "outputs": [
    {
     "data": {
      "text/plain": [
       "(12.666666666666666, 537.3333333333334)"
      ]
     },
     "execution_count": 5,
     "metadata": {},
     "output_type": "execute_result"
    }
   ],
   "source": [
    "np.var(sec_A),np.var(sec_B)"
   ]
  },
  {
   "cell_type": "code",
   "execution_count": null,
   "id": "115a7e51",
   "metadata": {},
   "outputs": [],
   "source": [
    "# low will be taken"
   ]
  }
 ],
 "metadata": {
  "kernelspec": {
   "display_name": "Python 3",
   "language": "python",
   "name": "python3"
  },
  "language_info": {
   "codemirror_mode": {
    "name": "ipython",
    "version": 3
   },
   "file_extension": ".py",
   "mimetype": "text/x-python",
   "name": "python",
   "nbconvert_exporter": "python",
   "pygments_lexer": "ipython3",
   "version": "3.10.0"
  }
 },
 "nbformat": 4,
 "nbformat_minor": 5
}
