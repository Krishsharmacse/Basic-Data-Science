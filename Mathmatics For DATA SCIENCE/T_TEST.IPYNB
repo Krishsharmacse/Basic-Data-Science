{
 "cells": [
  {
   "cell_type": "code",
   "execution_count": 1,
   "id": "1b69fc52",
   "metadata": {},
   "outputs": [],
   "source": [
    "import scipy.stats as st\n",
    "\n",
    "import numpy as np"
   ]
  },
  {
   "cell_type": "code",
   "execution_count": 2,
   "id": "619eea21",
   "metadata": {},
   "outputs": [],
   "source": [
    "# Q1\n",
    "pop_mean=150\n",
    "sample_mean=148\n",
    "total_no_of_sample=25\n",
    "sample_standard_daviation=5\n",
    "alpha=0.05"
   ]
  },
  {
   "cell_type": "code",
   "execution_count": 4,
   "id": "9848f6b9",
   "metadata": {},
   "outputs": [
    {
     "data": {
      "text/plain": [
       "-2.0"
      ]
     },
     "execution_count": 4,
     "metadata": {},
     "output_type": "execute_result"
    }
   ],
   "source": [
    "zcal=(sample_mean-pop_mean)/(sample_standard_daviation/np.sqrt(total_no_of_sample))\n",
    "zcal"
   ]
  },
  {
   "cell_type": "code",
   "execution_count": 6,
   "id": "ca434890",
   "metadata": {},
   "outputs": [
    {
     "data": {
      "text/plain": [
       "1.6448536269514722"
      ]
     },
     "execution_count": 6,
     "metadata": {},
     "output_type": "execute_result"
    }
   ],
   "source": [
    "z_table=st.norm.ppf(1-alpha)\n",
    "z_table"
   ]
  },
  {
   "cell_type": "code",
   "execution_count": 8,
   "id": "ae482e8d",
   "metadata": {},
   "outputs": [
    {
     "name": "stdout",
     "output_type": "stream",
     "text": [
      "h0 hi sahi hai\n"
     ]
    }
   ],
   "source": [
    "if(z_table<zcal):\n",
    "    print(\"ha sahi tha \")\n",
    "else:\n",
    "    print(\"h0 hi sahi hai\")"
   ]
  },
  {
   "cell_type": "code",
   "execution_count": 12,
   "id": "94c394e6",
   "metadata": {},
   "outputs": [
    {
     "data": {
      "text/plain": [
       "38"
      ]
     },
     "execution_count": 12,
     "metadata": {},
     "output_type": "execute_result"
    }
   ],
   "source": [
    "n=20\n",
    "teamA_mean=80\n",
    "teamA_std=5\n",
    "team_Bmean=75\n",
    "team_Bstd=6 \n",
    "alpha=0.025\n",
    "df=n+n-2\n",
    "df"
   ]
  },
  {
   "cell_type": "code",
   "execution_count": 15,
   "id": "c4ffa08e",
   "metadata": {},
   "outputs": [
    {
     "data": {
      "text/plain": [
       "2.032789070454354"
      ]
     },
     "execution_count": 15,
     "metadata": {},
     "output_type": "execute_result"
    }
   ],
   "source": [
    "t_cal=(teamA_mean-team_Bmean)/(np.sqrt(np.square(teamA_std)/n)+np.sqrt(np.square(team_Bstd)/n))\n",
    "t_cal"
   ]
  },
  {
   "cell_type": "code",
   "execution_count": 19,
   "id": "2eb95ffd",
   "metadata": {},
   "outputs": [
    {
     "data": {
      "text/plain": [
       "2.862991671569341"
      ]
     },
     "execution_count": 19,
     "metadata": {},
     "output_type": "execute_result"
    }
   ],
   "source": [
    "t_cal = (teamA_mean - team_Bmean) / np.sqrt((teamA_std**2 + team_Bstd**2) / n)\n",
    "t_cal\n"
   ]
  },
  {
   "cell_type": "markdown",
   "id": "f5e3d551",
   "metadata": {},
   "source": [
    "A company wants to test whether a new training program improves the typing speed of its employees. The typing speed (in words per minute) of 20 employees was recorded before and after the training program.\n",
    "\n",
    "The typing speeds are given below:\n",
    "\n",
    "Before Training:\n",
    "50, 60, 45, 65, 55, 70, 40, 75, 80, 65, 70, 60, 50, 55, 45, 75, 60, 50, 65, 70\n",
    "\n",
    "After Training:\n",
    "60, 70, 55, 75, 65, 80, 50, 85, 90, 70, 75, 65, 55, 60, 50, 80, 65, 55, 70, 75\n",
    "\n",
    "At a 5% level of significance, test whether the training program has a significant effect on the typing speed of employees.\n",
    "\n",
    "Use a paired sample t-test to determine if there is a statistically significant improvement in typing speed after the training."
   ]
  },
  {
   "cell_type": "code",
   "execution_count": 20,
   "id": "7792d2b7",
   "metadata": {},
   "outputs": [],
   "source": [
    "before = np.array([50, 60, 45, 65, 55, 70, 40, 75, 80, 65, 70, 60, 50, 55, 45, 75, 60, 50, 65, 70])\n",
    "after  = np.array([60, 70, 55, 75, 65, 80, 50, 85, 90, 70, 75, 65, 55, 60, 50, 80, 65, 55, 70, 75]\n",
    ")"
   ]
  },
  {
   "cell_type": "code",
   "execution_count": null,
   "id": "64411f85",
   "metadata": {},
   "outputs": [
    {
     "data": {
      "text/plain": [
       "11.236102527122116"
      ]
     },
     "execution_count": 25,
     "metadata": {},
     "output_type": "execute_result"
    }
   ],
   "source": [
    "n=20\n",
    "before_mean=np.mean(before)\n",
    "after_mean=np.mean(after)\n",
    "before_std=np.std(before)\n",
    "after_std=np.std(after)\n",
    "df=n-1\n",
    "alpha=0.25\n"
   ]
  },
  {
   "cell_type": "code",
   "execution_count": 27,
   "id": "40d38321",
   "metadata": {},
   "outputs": [
    {
     "data": {
      "text/plain": [
       "11.008519428151999"
      ]
     },
     "execution_count": 27,
     "metadata": {},
     "output_type": "execute_result"
    }
   ],
   "source": [
    "np.sqrt(np.square(before_std))"
   ]
  },
  {
   "cell_type": "code",
   "execution_count": 29,
   "id": "03866ba1",
   "metadata": {},
   "outputs": [
    {
     "data": {
      "text/plain": [
       "1.4575651471595177"
      ]
     },
     "execution_count": 29,
     "metadata": {},
     "output_type": "execute_result"
    }
   ],
   "source": [
    "T_test=(after_mean-before_mean)/(np.sqrt(np.square(before_std)/n)+np.sqrt(np.square(after_std)/n))\n",
    "T_test"
   ]
  },
  {
   "cell_type": "code",
   "execution_count": 30,
   "id": "20ba7de7",
   "metadata": {},
   "outputs": [],
   "source": [
    "t_table=  st.t.ppf(1-0.025,19)"
   ]
  },
  {
   "cell_type": "code",
   "execution_count": null,
   "id": "2260096e",
   "metadata": {},
   "outputs": [],
   "source": []
  }
 ],
 "metadata": {
  "kernelspec": {
   "display_name": "Python 3",
   "language": "python",
   "name": "python3"
  },
  "language_info": {
   "codemirror_mode": {
    "name": "ipython",
    "version": 3
   },
   "file_extension": ".py",
   "mimetype": "text/x-python",
   "name": "python",
   "nbconvert_exporter": "python",
   "pygments_lexer": "ipython3",
   "version": "3.10.0"
  }
 },
 "nbformat": 4,
 "nbformat_minor": 5
}
