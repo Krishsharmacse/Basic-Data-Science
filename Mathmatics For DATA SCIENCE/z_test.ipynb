{
 "cells": [
  {
   "cell_type": "code",
   "execution_count": 49,
   "id": "1ad8619f",
   "metadata": {},
   "outputs": [],
   "source": [
    "import scipy.stats as st\n",
    "import numpy as np"
   ]
  },
  {
   "cell_type": "code",
   "execution_count": 50,
   "id": "a2c4114c",
   "metadata": {},
   "outputs": [],
   "source": [
    "# Q1\n",
    "pop_mean=82\n",
    "sample_mean=90\n",
    "standard_daviation_pop=20\n",
    "sample_n=81\n",
    "alpha=0.05"
   ]
  },
  {
   "cell_type": "code",
   "execution_count": 51,
   "id": "8f303fd8",
   "metadata": {},
   "outputs": [
    {
     "data": {
      "text/plain": [
       "3.5999999999999996"
      ]
     },
     "execution_count": 51,
     "metadata": {},
     "output_type": "execute_result"
    }
   ],
   "source": [
    "z_cal=(sample_mean-pop_mean)/(standard_daviation_pop/np.sqrt(sample_n))\n",
    "z_cal"
   ]
  },
  {
   "cell_type": "code",
   "execution_count": 52,
   "id": "482ab20f",
   "metadata": {},
   "outputs": [
    {
     "data": {
      "text/plain": [
       "1.6448536269514722"
      ]
     },
     "execution_count": 52,
     "metadata": {},
     "output_type": "execute_result"
    }
   ],
   "source": [
    "z_table=scipy.stats.norm.ppf(1-0.05)\n",
    "z_table"
   ]
  },
  {
   "cell_type": "code",
   "execution_count": 53,
   "id": "6f6f1167",
   "metadata": {},
   "outputs": [
    {
     "data": {
      "text/plain": [
       "1.6448536269514722"
      ]
     },
     "execution_count": 53,
     "metadata": {},
     "output_type": "execute_result"
    }
   ],
   "source": [
    "z_table=st.norm.ppf(1-alpha)\n",
    "z_table"
   ]
  },
  {
   "cell_type": "code",
   "execution_count": 54,
   "id": "c9c86c07",
   "metadata": {},
   "outputs": [
    {
     "name": "stdout",
     "output_type": "stream",
     "text": [
      "ha sahi tha \n"
     ]
    }
   ],
   "source": [
    "if(z_table<z_cal):\n",
    "    print(\"ha sahi tha \")\n",
    "else:\n",
    "    print(\"h0 hi sahi hai\")"
   ]
  },
  {
   "cell_type": "code",
   "execution_count": 55,
   "id": "9a52b228",
   "metadata": {},
   "outputs": [],
   "source": [
    "# Q2\n",
    "new_data_design=np.array([48.5, 49.1, 50.2, 47.8, 48.7, 49.9, 48.0, 50.5, 49.8, 49.6,\n",
    " 48.2, 48.9, 49.7, 50.3, 49.4, 50.1, 48.6, 48.3, 49.0, 50.0,\n",
    " 48.4, 49.3, 49.5, 48.8, 50.6, 50.4, 48.1, 49.2, 50.7, 50.0]\n",
    ")\n",
    "\n",
    "old_data_design=np.array([45.2, 42.8, 38.9, 43.5, 41.0, 44.6, 40.5, 42.7, 39.8, 41.4,\n",
    " 44.3, 39.7, 42.1, 40.6, 43.0, 42.2, 41.5, 39.6, 44.0, 43.1,\n",
    " 38.7, 43.9, 42.0,41.9,43.7,41.3,40.9,42.5,41.6])\n"
   ]
  },
  {
   "cell_type": "code",
   "execution_count": 56,
   "id": "4b65908b",
   "metadata": {},
   "outputs": [
    {
     "data": {
      "text/plain": [
       "49.32"
      ]
     },
     "execution_count": 56,
     "metadata": {},
     "output_type": "execute_result"
    }
   ],
   "source": [
    "new_mean=np.mean(new_data_design)\n",
    "new_mean"
   ]
  },
  {
   "cell_type": "code",
   "execution_count": 57,
   "id": "e2a07f95",
   "metadata": {},
   "outputs": [
    {
     "data": {
      "text/plain": [
       "41.96551724137931"
      ]
     },
     "execution_count": 57,
     "metadata": {},
     "output_type": "execute_result"
    }
   ],
   "source": [
    "old_mean=np.mean(old_data_design)\n",
    "old_mean"
   ]
  },
  {
   "cell_type": "code",
   "execution_count": 58,
   "id": "907682f7",
   "metadata": {},
   "outputs": [
    {
     "name": "stdout",
     "output_type": "stream",
     "text": [
      "they are not equal\n"
     ]
    }
   ],
   "source": [
    "if(np.mean(new_data_design)==np.mean(old_data_design)):\n",
    "    print(\"both are equal\")\n",
    "else:\n",
    "    print(\"they are not equal\")"
   ]
  },
  {
   "cell_type": "code",
   "execution_count": 59,
   "id": "5550cdd7",
   "metadata": {},
   "outputs": [],
   "source": [
    "std=2.5\n",
    "n=30"
   ]
  },
  {
   "cell_type": "code",
   "execution_count": 60,
   "id": "b5697492",
   "metadata": {},
   "outputs": [
    {
     "data": {
      "text/plain": [
       "16.112864422717497"
      ]
     },
     "execution_count": 60,
     "metadata": {},
     "output_type": "execute_result"
    }
   ],
   "source": [
    "z_cal=(new_mean-old_mean)/(std/np.sqrt(n))\n",
    "z_cal"
   ]
  },
  {
   "cell_type": "code",
   "execution_count": 62,
   "id": "4b9732cf",
   "metadata": {},
   "outputs": [
    {
     "data": {
      "text/plain": [
       "1.6448536269514722"
      ]
     },
     "execution_count": 62,
     "metadata": {},
     "output_type": "execute_result"
    }
   ],
   "source": [
    "z_tab=st.norm.ppf(1-alpha)\n",
    "z_tab"
   ]
  },
  {
   "cell_type": "code",
   "execution_count": 63,
   "id": "701579b3",
   "metadata": {},
   "outputs": [
    {
     "name": "stdout",
     "output_type": "stream",
     "text": [
      "ha sahi tha \n"
     ]
    }
   ],
   "source": [
    "if(z_tab<z_cal):\n",
    "    print(\"ha sahi tha \")\n",
    "else:\n",
    "    print(\"h0 hi sahi hai\")"
   ]
  },
  {
   "cell_type": "code",
   "execution_count": null,
   "id": "58e713b7",
   "metadata": {},
   "outputs": [],
   "source": []
  }
 ],
 "metadata": {
  "kernelspec": {
   "display_name": "Python 3",
   "language": "python",
   "name": "python3"
  },
  "language_info": {
   "codemirror_mode": {
    "name": "ipython",
    "version": 3
   },
   "file_extension": ".py",
   "mimetype": "text/x-python",
   "name": "python",
   "nbconvert_exporter": "python",
   "pygments_lexer": "ipython3",
   "version": "3.10.0"
  }
 },
 "nbformat": 4,
 "nbformat_minor": 5
}
